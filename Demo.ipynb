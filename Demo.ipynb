import spacy
nlp = spacy.load("en_core_web_sm")
to_analyze = ('Hello Travelsouq,''my name is Hiresh and tonight''we\'re in Mumbai' )
doc = nlp(to_analyze)
ents = [(x.text, x.label_)
          for x in doc.ents]
print(ents)
ents
